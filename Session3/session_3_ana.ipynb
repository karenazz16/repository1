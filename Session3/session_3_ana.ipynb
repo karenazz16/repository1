{
  "cells": [
    {
      "cell_type": "markdown",
      "id": "24b98369-c7ba-450b-a8b5-e34319000695",
      "metadata": {
        "editable": true,
        "id": "24b98369-c7ba-450b-a8b5-e34319000695",
        "tags": []
      },
      "source": [
        "# Python for Data Science\n",
        "## Session 3\n",
        "### Object Oriented Programming"
      ]
    },
    {
      "cell_type": "markdown",
      "id": "3ace1343-d73d-466d-aa07-56febbb7cbf1",
      "metadata": {
        "editable": true,
        "id": "3ace1343-d73d-466d-aa07-56febbb7cbf1",
        "tags": []
      },
      "source": [
        "---"
      ]
    },
    {
      "cell_type": "markdown",
      "id": "c5ffee69-5d4d-4f1c-9ed7-083afbc931ec",
      "metadata": {
        "editable": true,
        "id": "c5ffee69-5d4d-4f1c-9ed7-083afbc931ec",
        "tags": []
      },
      "source": [
        "## Outline\n",
        "1. Classes and objects\n",
        "2. Abstraction and Inheritance\n",
        "3. Polymorphism and Encapsulation"
      ]
    },
    {
      "cell_type": "markdown",
      "id": "aba315f4-e9bf-4a66-b3d3-593037c3ca70",
      "metadata": {
        "editable": true,
        "id": "aba315f4-e9bf-4a66-b3d3-593037c3ca70",
        "tags": []
      },
      "source": [
        "---"
      ]
    },
    {
      "cell_type": "markdown",
      "id": "8ed45dcb-2cf5-4bfa-ba6e-5da25c59757c",
      "metadata": {
        "editable": true,
        "id": "8ed45dcb-2cf5-4bfa-ba6e-5da25c59757c",
        "tags": []
      },
      "source": [
        "## Object Oriented programming\n",
        "\n",
        "In Data science there are three different types of programming paradigms:\n",
        "\n",
        "1. **Object-oriented programming** organizes code using objects that represent real-world entities. It provides modularity, code reuse and abstraction, making it suitable for handling large and complex applications.\n",
        "\n",
        "2. **Functional programming** emphasizes the use of **pure functions** that can be easily composed and reused, ideal for transforming data.\n",
        "\n",
        "3. **Declarative programming** consists in specifyin what the program should accomplish, rather than how to accomplish it.\n",
        "\n"
      ]
    },
    {
      "cell_type": "markdown",
      "id": "42f9f227-0941-4967-9a4b-c282bb0e4cfc",
      "metadata": {
        "editable": true,
        "id": "42f9f227-0941-4967-9a4b-c282bb0e4cfc",
        "tags": []
      },
      "source": [
        "**Pure functions** are functions that always produce the same output for the same input and haven't got any side effects, meaning it does not modify external states or variables."
      ]
    },
    {
      "cell_type": "markdown",
      "id": "00b01ced-eda7-423f-8522-96bd3f1a4125",
      "metadata": {
        "editable": true,
        "id": "00b01ced-eda7-423f-8522-96bd3f1a4125",
        "tags": []
      },
      "source": [
        "---"
      ]
    },
    {
      "cell_type": "markdown",
      "id": "9434c993-aac1-4655-bf69-477b9dc5d2ee",
      "metadata": {
        "editable": true,
        "id": "9434c993-aac1-4655-bf69-477b9dc5d2ee",
        "tags": []
      },
      "source": [
        "## Object Oriented programming\n",
        "\n",
        "OOP main concepts are:\n",
        "\n",
        "1. **Class**: A template to create objects.\n",
        "2. **Object**: An instance of a class, representing a specific entity.\n",
        "3. **Attributes**: Properties of an object (variables within a class that define it).\n",
        "4. **Methods**: Actions that objects can perform (functions within a class)."
      ]
    },
    {
      "cell_type": "code",
      "execution_count": 39,
      "id": "1e350f15-ae19-4323-a1c6-25d80118a5f3",
      "metadata": {
        "editable": true,
        "id": "1e350f15-ae19-4323-a1c6-25d80118a5f3",
        "tags": []
      },
      "outputs": [],
      "source": [
        "class Pet:\n",
        "    pass  # Empty class as a placeholder"
      ]
    },
    {
      "cell_type": "code",
      "execution_count": 40,
      "id": "2e427c6d-a0fc-47de-a6e8-de71ae500619",
      "metadata": {
        "editable": true,
        "id": "2e427c6d-a0fc-47de-a6e8-de71ae500619",
        "tags": []
      },
      "outputs": [],
      "source": [
        "my_pet = Pet() # Instance of a class"
      ]
    },
    {
      "cell_type": "code",
      "execution_count": 41,
      "id": "1cda9d57-aedb-4e70-af5b-7193174a2430",
      "metadata": {
        "editable": true,
        "id": "1cda9d57-aedb-4e70-af5b-7193174a2430",
        "tags": []
      },
      "outputs": [],
      "source": [
        "# Note: self refers to the instance of the class and is used to access its attributes and methods\n",
        "class Pet:\n",
        "    def __init__(self, name): # constructor\n",
        "        self.name = name"
      ]
    },
    {
      "cell_type": "code",
      "execution_count": 42,
      "id": "c4f13ca9-dd0a-4b53-8f30-5a507979b1ed",
      "metadata": {
        "editable": true,
        "id": "c4f13ca9-dd0a-4b53-8f30-5a507979b1ed",
        "tags": []
      },
      "outputs": [],
      "source": [
        "class Pet:\n",
        "    def __init__(self, name): # constructor\n",
        "        self.name = name # Instance attribute\n",
        "        self.age = None # Instance attribute set to None\n",
        "\n",
        "    def set_age(self, age): # Method\n",
        "        self.age = age"
      ]
    },
    {
      "cell_type": "markdown",
      "id": "92887f1e-c2b9-4abc-9324-af4c15250c3a",
      "metadata": {
        "editable": true,
        "id": "92887f1e-c2b9-4abc-9324-af4c15250c3a",
        "tags": []
      },
      "source": [
        "---"
      ]
    },
    {
      "cell_type": "markdown",
      "id": "d6c81e01-e268-4490-b970-b9f3d7a08d30",
      "metadata": {
        "editable": true,
        "id": "d6c81e01-e268-4490-b970-b9f3d7a08d30",
        "tags": []
      },
      "source": [
        "## Object Oriented programming\n",
        "### Abstraction\n",
        "\n",
        "Abstraction consists in hiding any variables and internal parts of an object that don’t need to be shown during interaction. Making only available the essential functionalities.\n",
        "\n",
        "You may want to call a method from an object that searches for something in an internal list, and in this case, you don't need to see the algorithm behind it, you just need to call the method and get what you want."
      ]
    },
    {
      "cell_type": "markdown",
      "id": "23e1e6b4-322a-4cd5-8a82-72877cc98804",
      "metadata": {
        "editable": true,
        "id": "23e1e6b4-322a-4cd5-8a82-72877cc98804",
        "tags": []
      },
      "source": [
        "## Object Oriented programming\n",
        "### Inheritance\n",
        "\n",
        "Inheritance permits any class to inherit attributes and methods from another class. This reduces code duplication and enables the creation of specialized classes based on general ones."
      ]
    },
    {
      "cell_type": "code",
      "execution_count": 43,
      "id": "76c58110-a965-432f-8dcf-f457079fec65",
      "metadata": {
        "editable": true,
        "id": "76c58110-a965-432f-8dcf-f457079fec65",
        "tags": []
      },
      "outputs": [],
      "source": [
        "class Pet:\n",
        "    def __init__(self, age, name): # Constructor\n",
        "        self.age = age # Attribute\n",
        "        self.name = name # Attribute\n",
        "\n",
        "    def describe(self): # Method\n",
        "        print(f\"This pet's name is {self.name}.\")\n",
        "\n",
        "class Dog(Pet):\n",
        "    def __init__(self, age, name, breed): # Constructor\n",
        "        super().__init__(age, name)  # Call the parent class's __init__ method\n",
        "        self.breed = breed # New attribute for this specialized class\n",
        "\n",
        "    def describe(self):\n",
        "        super().describe()  # Call the parent class's describe method\n",
        "        print(f\"This dog is {self.age} years old and is a {self.breed}.\")"
      ]
    },
    {
      "cell_type": "code",
      "execution_count": 44,
      "id": "48301f74-ece3-49ec-9332-2c168743ebc8",
      "metadata": {
        "editable": true,
        "id": "48301f74-ece3-49ec-9332-2c168743ebc8",
        "tags": []
      },
      "outputs": [],
      "source": [
        "my_dog = Dog(3, 'Rock', 'Great Dane')"
      ]
    },
    {
      "cell_type": "code",
      "execution_count": 45,
      "id": "eae7678f-665a-4916-96d2-3926a312aea5",
      "metadata": {
        "editable": true,
        "id": "eae7678f-665a-4916-96d2-3926a312aea5",
        "outputId": "3abb92a2-d911-43f9-bf4b-bb7ecdaf371f",
        "tags": []
      },
      "outputs": [
        {
          "name": "stdout",
          "output_type": "stream",
          "text": [
            "This pet's name is Rock.\n",
            "This dog is 3 years old and is a Great Dane.\n"
          ]
        }
      ],
      "source": [
        "my_dog.describe()"
      ]
    },
    {
      "cell_type": "markdown",
      "id": "220f9368-0c1a-4ac8-9785-a33b11e5df77",
      "metadata": {
        "editable": true,
        "id": "220f9368-0c1a-4ac8-9785-a33b11e5df77",
        "tags": []
      },
      "source": [
        "---"
      ]
    },
    {
      "cell_type": "markdown",
      "id": "88ff8053-d1d0-4c08-b8e5-6c84e94c4f24",
      "metadata": {
        "editable": true,
        "id": "88ff8053-d1d0-4c08-b8e5-6c84e94c4f24",
        "tags": []
      },
      "source": [
        "## Object Oriented programming\n",
        "### Polymorphism\n",
        "\n",
        "It allows the same method name to behave differently based on the object calling it, which can be achieved through method overriding."
      ]
    },
    {
      "cell_type": "code",
      "execution_count": 46,
      "id": "db4cd9e2-0188-4511-a81b-070221d74af5",
      "metadata": {
        "editable": true,
        "id": "db4cd9e2-0188-4511-a81b-070221d74af5",
        "tags": []
      },
      "outputs": [],
      "source": [
        "class Cat(Pet):\n",
        "    def __init__(self, age, name, breed): # Constructor\n",
        "        super().__init__(age, name)  # Call the parent class's __init__ method\n",
        "        self.breed = breed # New attribute for this specialized class\n",
        "\n",
        "    def describe(self): # Method\n",
        "        print(f\"This super cat is {self.age} years old and is a {self.breed}.\")"
      ]
    },
    {
      "cell_type": "code",
      "execution_count": 47,
      "id": "ced1143b-98db-46db-8e90-fed185aad835",
      "metadata": {
        "editable": true,
        "id": "ced1143b-98db-46db-8e90-fed185aad835",
        "outputId": "3c3d99c3-5191-40d9-a25c-9d4516c6ca93",
        "tags": []
      },
      "outputs": [
        {
          "name": "stdout",
          "output_type": "stream",
          "text": [
            "This super cat is 7 years old and is a Siamese.\n"
          ]
        }
      ],
      "source": [
        "my_cat = Cat(7, 'Bella', 'Siamese')\n",
        "my_cat.describe()"
      ]
    },
    {
      "cell_type": "markdown",
      "id": "cd327548-f048-4d39-9b72-6dff6cd6963d",
      "metadata": {
        "editable": true,
        "id": "cd327548-f048-4d39-9b72-6dff6cd6963d",
        "tags": []
      },
      "source": [
        "---"
      ]
    },
    {
      "cell_type": "markdown",
      "id": "854b31bb-2b21-42fd-939a-f82f71a549f0",
      "metadata": {
        "editable": true,
        "id": "854b31bb-2b21-42fd-939a-f82f71a549f0",
        "tags": []
      },
      "source": [
        "## Object Oriented programming\n",
        "### Encapsulation\n",
        "\n",
        "It consists in restricting access to variables and methods outside the object. This way we ensure the integrity of the data within the object.\n",
        "\n",
        "In python, prefixing a variable or method name with an underscore **_** indicates that it is intended for internal use only, while a double underscore **__** modifies the variable name for better encapsulation.\n",
        "\n",
        "It is worth mentioning that this is a convention, and variables and methods are still accessible."
      ]
    },
    {
      "cell_type": "code",
      "execution_count": 48,
      "id": "33e1bdf2-8798-41f1-9ed3-957c730dc9ad",
      "metadata": {
        "editable": true,
        "id": "33e1bdf2-8798-41f1-9ed3-957c730dc9ad",
        "tags": []
      },
      "outputs": [],
      "source": [
        "class Student:\n",
        "    def __init__(self, name, age, address=None):\n",
        "        self.name = name # Public attribute\n",
        "        self._age =   age # Private attribute\n",
        "        self._address = address  # Private attribute\n",
        "\n",
        "    def get_address(self): # Method\n",
        "        return self._address\n",
        "\n",
        "    def set_address(self, address): # Method\n",
        "        address = ''.join(filter(self._remove_special_characters, address))\n",
        "        self._address = address\n",
        "\n",
        "    def _remove_special_characters(self, character): # Private method\n",
        "        if character.isalnum() or character == ' ' or character == '-':\n",
        "            return True\n",
        "        else:\n",
        "            return False\n"
      ]
    },
    {
      "cell_type": "code",
      "execution_count": 49,
      "id": "a4e46c71-63e9-474e-91a6-9d9a323636dc",
      "metadata": {
        "editable": true,
        "id": "a4e46c71-63e9-474e-91a6-9d9a323636dc",
        "outputId": "f3fdcc29-3661-46e6-e645-397a94c9874c",
        "tags": []
      },
      "outputs": [
        {
          "name": "stdout",
          "output_type": "stream",
          "text": [
            "The student named Joan has the following address: Avinguda Buenos Aires nº 31 7e-1a\n"
          ]
        }
      ],
      "source": [
        "student = Student(\"Joan\", 24)\n",
        "student.set_address(\"Avinguda Buenos Aires nº 31! 7e-1a\")\n",
        "print(f\"The student named {student.name} has the following address: {student.get_address()}\")"
      ]
    },
    {
      "cell_type": "markdown",
      "id": "f4552012-e0e9-40af-8801-69d83733d433",
      "metadata": {
        "editable": true,
        "id": "f4552012-e0e9-40af-8801-69d83733d433",
        "tags": []
      },
      "source": [
        "---"
      ]
    },
    {
      "cell_type": "markdown",
      "id": "42f8be9a-cc71-4a58-97ac-1a54219a2d72",
      "metadata": {
        "editable": true,
        "id": "42f8be9a-cc71-4a58-97ac-1a54219a2d72",
        "tags": []
      },
      "source": [
        "## Object Oriented programming\n",
        "### Hands on\n",
        "\n",
        "Let's design a course registration system, where the requirements will be:\n",
        "\n",
        "1. Create a **Course** class, where each course has a name, a description and a list of enrolled students. You'll need to implement the next methods:\n",
        "    - Add a student to the course.\n",
        "    - Remove a student from the course.\n",
        "    - Show all students in the course."
      ]
    },
    {
      "cell_type": "code",
      "execution_count": 50,
      "id": "e5430dcf-a01a-4ea1-aff8-5bad4531ab1e",
      "metadata": {
        "editable": true,
        "id": "e5430dcf-a01a-4ea1-aff8-5bad4531ab1e",
        "tags": []
      },
      "outputs": [],
      "source": [
        "class Course:\n",
        "    def __init__(self, name, course_type):\n",
        "        self.students = []\n",
        "        self.name = name\n",
        "        self.course_type = course_type\n",
        "\n",
        "    def add_student(self, student):\n",
        "        if student not in self.students:\n",
        "            self.students.append(student)\n",
        "        else:\n",
        "            print(f\"{student} is already enrolled in the course {self.name}.\")\n",
        "\n",
        "    def remove_student(self, student):\n",
        "        if student in self.students:\n",
        "            self.students.remove(student)\n",
        "        else:\n",
        "            print(f\"{student} is not enrolled in the course {self.name}.\")\n",
        "\n",
        "    def show_students(self):\n",
        "        if self.students:\n",
        "            print(f\"Students enrolled in {self.name}:\")\n",
        "            for student in self.students:\n",
        "                print(f\"- {student}\", end=\" \")\n",
        "            print()\n",
        "        else:\n",
        "            print(f\"No students are enrolled in the course {self.name}.\")\n"
      ]
    },
    {
      "cell_type": "code",
      "execution_count": 51,
      "id": "9732d6da",
      "metadata": {},
      "outputs": [],
      "source": [
        "# Create course \n",
        "course_1= Course(\"Python\", \"MIBA\")\n",
        "course_2= Course(\"Data Analysis\", \"MIBA\")\n"
      ]
    },
    {
      "cell_type": "code",
      "execution_count": 52,
      "id": "6cd70c79",
      "metadata": {},
      "outputs": [
        {
          "name": "stdout",
          "output_type": "stream",
          "text": [
            "Students enrolled in Python:\n",
            "- Angela - Ricardo - Carla - Enric \n",
            "Students enrolled in Data Analysis:\n",
            "- Enric - Ana \n"
          ]
        }
      ],
      "source": [
        "# Add students to the courses\n",
        "course_1.add_student(\"Angela\"),course_1.add_student(\"Ricardo\")\n",
        "course_1.add_student(\"Carla\"),course_1.add_student(\"Enric\")\n",
        "course_2.add_student(\"Enric\"),course_2.add_student(\"Ana\")\n",
        "course_1.show_students()\n",
        "course_2.show_students()"
      ]
    },
    {
      "cell_type": "code",
      "execution_count": 53,
      "id": "cc68e0ce",
      "metadata": {},
      "outputs": [
        {
          "name": "stdout",
          "output_type": "stream",
          "text": [
            "Students enrolled in Python:\n",
            "- Angela - Ricardo - Carla \n"
          ]
        }
      ],
      "source": [
        "# Remove a student \n",
        "course_1.remove_student(\"Enric\")\n",
        "course_1.show_students()"
      ]
    },
    {
      "cell_type": "code",
      "execution_count": 54,
      "id": "90a8d96b",
      "metadata": {},
      "outputs": [
        {
          "name": "stdout",
          "output_type": "stream",
          "text": [
            "Students enrolled in Python:\n",
            "- Angela - Ricardo - Carla \n",
            "Students enrolled in Data Analysis:\n",
            "- Enric - Ana \n"
          ]
        }
      ],
      "source": [
        "# Show all students in the courses\n",
        "course_1.show_students()\n",
        "course_2.show_students()"
      ]
    },
    {
      "cell_type": "markdown",
      "id": "16cc578c-9fe3-4478-81da-3071e3adb318",
      "metadata": {
        "editable": true,
        "id": "16cc578c-9fe3-4478-81da-3071e3adb318",
        "tags": []
      },
      "source": [
        "## Object Oriented programming\n",
        "### Hands on\n",
        "\n",
        "2. Create a **Student** class, where each student has a name, ID number, address and a list of enrolled courses with the following methods:\n",
        "    - Enroll in a course.\n",
        "    - Drop a course.\n",
        "    - Show all registered student courses."
      ]
    },
    {
      "cell_type": "code",
      "execution_count": 55,
      "id": "fe4cce31-1ddf-4847-bc8d-924dc3e0dfe1",
      "metadata": {
        "editable": true,
        "id": "fe4cce31-1ddf-4847-bc8d-924dc3e0dfe1",
        "tags": []
      },
      "outputs": [],
      "source": [
        "class Student:\n",
        "    def __init__(self, name, id_number, address):\n",
        "        self.name = name\n",
        "        self.id_number = id_number\n",
        "        self.address = address\n",
        "        self.enrolled_courses = []\n",
        "\n",
        "    def enroll_in_course(self, course):\n",
        "        if course not in self.enrolled_courses:\n",
        "            self.enrolled_courses.append(course)\n",
        "            course.add_student(self.name)\n",
        "            print(f\"{self.name} has been enrolled in {course.name}.\")\n",
        "        else:\n",
        "            print(f\"{self.name} is already enrolled in {course.name}.\")\n",
        "\n",
        "    def drop_course(self, course):\n",
        "        if course in self.enrolled_courses:\n",
        "            self.enrolled_courses.remove(course)\n",
        "            course.remove_student(self.name)\n",
        "            print(f\"{self.name} has been removed from {course.name}.\")\n",
        "        else:\n",
        "            print(f\"{self.name} is not enrolled in {course.name}.\")\n",
        "\n",
        "    def show_courses(self):\n",
        "        if self.enrolled_courses:\n",
        "            print(f\"{self.name} is enrolled in the following courses:\")\n",
        "            for course in self.enrolled_courses:\n",
        "                print(f\"- {course.name}\")\n",
        "        else:\n",
        "            print(f\"{self.name} is not enrolled in any courses.\") \n"
      ]
    },
    {
      "cell_type": "code",
      "execution_count": 56,
      "id": "8074381f",
      "metadata": {},
      "outputs": [],
      "source": [
        "#Students\n",
        "student1 = Student (\"Carlota\", \"1\", \"Italia\")\n",
        "student2 = Student (\"Karen\", \"2\", \"España\")\n",
        "student3 = Student (\"Diego\", \"3\", \"Mexico\")\n"
      ]
    },
    {
      "cell_type": "code",
      "execution_count": 57,
      "id": "3f62020e",
      "metadata": {},
      "outputs": [
        {
          "name": "stdout",
          "output_type": "stream",
          "text": [
            "Carlota has been enrolled in Python.\n",
            "Karen has been enrolled in Python.\n",
            "Diego has been enrolled in Python.\n"
          ]
        }
      ],
      "source": [
        "# Enroll students in courses\n",
        "student1.enroll_in_course(course_1)\n",
        "student2.enroll_in_course(course_1)\n",
        "student3.enroll_in_course(course_1)"
      ]
    },
    {
      "cell_type": "code",
      "execution_count": 58,
      "id": "9931ca48",
      "metadata": {},
      "outputs": [
        {
          "name": "stdout",
          "output_type": "stream",
          "text": [
            "Karen has been removed from Python.\n",
            "Carlota has been removed from Python.\n",
            "Karen is not enrolled in any courses.\n",
            "Carlota is not enrolled in any courses.\n"
          ]
        }
      ],
      "source": [
        "#Drop\n",
        "student2.drop_course(course_1)\n",
        "student1.drop_course(course_1)\n",
        "student2.show_courses()\n",
        "student1.show_courses()"
      ]
    },
    {
      "cell_type": "code",
      "execution_count": 59,
      "id": "e81974f1",
      "metadata": {},
      "outputs": [
        {
          "name": "stdout",
          "output_type": "stream",
          "text": [
            "Students enrolled in Python:\n",
            "- Angela - Ricardo - Carla - Diego \n",
            "Students enrolled in Data Analysis:\n",
            "- Enric - Ana \n"
          ]
        }
      ],
      "source": [
        "#Show all registered student courses\n",
        "course_1.show_students()\n",
        "course_2.show_students()"
      ]
    },
    {
      "cell_type": "markdown",
      "id": "5c54b2fe-691f-4520-b8d6-2515ba92b808",
      "metadata": {
        "editable": true,
        "id": "5c54b2fe-691f-4520-b8d6-2515ba92b808",
        "tags": []
      },
      "source": [
        "\n",
        "\n",
        "3. Create a central class that manages courses and students, **Registration** class, where you have a list of students and a list of courses, and methods:\n",
        "    - Enroll in a course.\n",
        "    - Drop a course.\n",
        "    - Show all the enrolled courses.\n",
        "    - Show all the students."
      ]
    },
    {
      "cell_type": "code",
      "execution_count": 60,
      "id": "863f30c7-3cf8-4ac9-8599-e7df8e0d483c",
      "metadata": {
        "editable": true,
        "id": "863f30c7-3cf8-4ac9-8599-e7df8e0d483c",
        "tags": []
      },
      "outputs": [],
      "source": [
        "class Registration:\n",
        "    def __init__(self):\n",
        "        self.students = []  \n",
        "        self.courses = []   \n",
        "\n",
        "    def add_student(self, student):\n",
        "        if student not in self.students:\n",
        "            self.students.append(student)\n",
        "        else:\n",
        "            print(f\"Student {student.name} with ID: {student.student_id} is already registered.\")\n",
        "\n",
        "# Check if course is already in the registration system \n",
        "    def add_course(self, course):  \n",
        "        if any(c.name == course.name for c in self.courses):\n",
        "            print(f\"Course {course.name} is already in the registration system.\")\n",
        "        else:\n",
        "            self.courses.append(course)\n",
        "            print(f\"Course {course.name} has been added to the registration system.\")\n",
        "\n",
        "    def enroll_in_course(self, student, course):\n",
        "        # Check if both the student and course are registered\n",
        "        if student not in self.students:\n",
        "            print(f\"Enrollment failed. Student {student.name} with ID: {student.student_id} is not registered.\")\n",
        "            return\n",
        "        if course not in self.courses:\n",
        "            print(f\"Enrollment failed. Course '{course.name}' is not in the system.\")\n",
        "            return\n",
        "\n",
        "        # Enroll the student in the course \n",
        "        if course.name in [c.name for c in student.courses]:\n",
        "            print(f\"Student {student.name} is already enrolled in the course {course.name}.\")\n",
        "        else:\n",
        "            student.enroll_course(course)\n",
        "            course.add_student(student)\n",
        "            print(f\"Student {student.name} has been enrolled in the course {course.name}.\")\n",
        "\n",
        "    def drop_course(self, student, course):\n",
        "        # Check if both the student and course are registered\n",
        "        if student not in self.students:\n",
        "            print(f\"Drop failed. Student {student.name} (ID: {student.student_id}) is not registered.\")\n",
        "            return\n",
        "        if course not in self.courses:\n",
        "            print(f\"Drop failed. Course '{course.name}' is not in the system.\")\n",
        "            return\n",
        "\n",
        "        # Drop the course for the student if they are enrolled\n",
        "        if course not in student.courses:\n",
        "            print(f\"Student {student.name} is not enrolled in the course {course.name}.\")\n",
        "        else:\n",
        "            student.remove_course(course)\n",
        "            course.remove_student(student)\n",
        "            print(f\"Student {student.name} has been removed from the course {course.name}.\")\n",
        "\n",
        "    def show_all_students(self):\n",
        "        if self.students:\n",
        "            print(\"Registered students:\")\n",
        "            for student in self.students:\n",
        "                print(f\"{student.name} (ID: {student.student_id})\")\n",
        "        else:\n",
        "            print(\"No students are registered in the system.\")\n",
        "\n",
        "    def show_all_courses(self):\n",
        "        if self.courses:\n",
        "            print(\"Available courses:\")\n",
        "            for course in self.courses:\n",
        "                print(f\"{course.name} ({course.description})\")\n",
        "        else:\n",
        "            print(\"No courses are available in the system.\")\n"
      ]
    },
    {
      "cell_type": "code",
      "execution_count": 61,
      "id": "68d96b5f",
      "metadata": {},
      "outputs": [],
      "source": [
        "# Create the registration system\n",
        "register = Registration()"
      ]
    },
    {
      "cell_type": "code",
      "execution_count": 62,
      "id": "7f5c77d1",
      "metadata": {},
      "outputs": [],
      "source": [
        "# Create students\n",
        "student4 = Student(\"Lara\", \"4\", \"MIF\")\n",
        "student5 = Student(\"Alex\", \"5\", \"MIM\")\n",
        "student6 = Student(\"Timo\", \"6\", \"MIBA\")"
      ]
    },
    {
      "cell_type": "code",
      "execution_count": 63,
      "id": "1fbe9e91",
      "metadata": {},
      "outputs": [],
      "source": [
        "# Add students to the registration system\n",
        "register.add_student(student1)\n",
        "register.add_student(student2)\n",
        "register.add_student(student3)"
      ]
    },
    {
      "cell_type": "code",
      "execution_count": 64,
      "id": "abda994b",
      "metadata": {},
      "outputs": [],
      "source": [
        "# create course \n",
        "course_1= Course(\"Python\", \"MIBA\")\n",
        "course_2= Course(\"Data Analysis\", \"MIBA\")"
      ]
    },
    {
      "cell_type": "code",
      "execution_count": 65,
      "id": "a35cb2c9",
      "metadata": {},
      "outputs": [
        {
          "name": "stdout",
          "output_type": "stream",
          "text": [
            "Course Python has been added to the registration system.\n",
            "Course Data Analysis has been added to the registration system.\n"
          ]
        }
      ],
      "source": [
        "# Add course to the registration system\n",
        "register.add_course(course_1)\n",
        "register.add_course(course_2)"
      ]
    },
    {
      "cell_type": "code",
      "execution_count": 66,
      "id": "ffe27fa9",
      "metadata": {},
      "outputs": [
        {
          "name": "stdout",
          "output_type": "stream",
          "text": [
            "Carlota has been enrolled in Python.\n",
            "Karen has been enrolled in Python.\n",
            "Diego has been enrolled in Python.\n"
          ]
        }
      ],
      "source": [
        "#Enroll students in a course ?????\n",
        "student1.enroll_in_course(course_1)\n",
        "student2.enroll_in_course(course_1)\n",
        "student3.enroll_in_course(course_1)"
      ]
    },
    {
      "cell_type": "code",
      "execution_count": 67,
      "id": "b6753fde",
      "metadata": {},
      "outputs": [
        {
          "name": "stdout",
          "output_type": "stream",
          "text": [
            "Karen has been removed from Python.\n",
            "Carlota has been removed from Python.\n",
            "Karen is not enrolled in any courses.\n",
            "Carlota is not enrolled in any courses.\n"
          ]
        }
      ],
      "source": [
        "#Drop a course\n",
        "student2.drop_course(course_1)\n",
        "student1.drop_course(course_1)\n",
        "student2.show_courses()\n",
        "student1.show_courses()\n"
      ]
    },
    {
      "cell_type": "code",
      "execution_count": 68,
      "id": "a7b206fe",
      "metadata": {},
      "outputs": [
        {
          "name": "stdout",
          "output_type": "stream",
          "text": [
            "Python\n",
            "Data Analysis\n"
          ]
        }
      ],
      "source": [
        "#Show all registered student courses\n",
        "for courses in register.courses: \n",
        "    print(courses.name)\n"
      ]
    },
    {
      "cell_type": "code",
      "execution_count": 69,
      "id": "0f5f043c",
      "metadata": {},
      "outputs": [
        {
          "name": "stdout",
          "output_type": "stream",
          "text": [
            "Carlota\n",
            "Karen\n",
            "Diego\n"
          ]
        }
      ],
      "source": [
        "#Show all students\n",
        "for student in register.students: \n",
        "    print(student.name)     \n"
      ]
    },
    {
      "cell_type": "markdown",
      "id": "2958b01b-3472-4c95-ae1f-771edc638749",
      "metadata": {
        "editable": true,
        "id": "2958b01b-3472-4c95-ae1f-771edc638749",
        "tags": []
      },
      "source": [
        "## Object Oriented programming\n",
        "### Howework\n",
        "\n",
        "4. Let's add grades to each student's course and create method that yields the GPA given a student name or ID."
      ]
    },
    {
      "cell_type": "code",
      "execution_count": 70,
      "id": "2c34d9cf",
      "metadata": {},
      "outputs": [],
      "source": [
        "\n",
        "class Student:\n",
        "    def __init__(self, name, id_number, address):\n",
        "        self.name = name\n",
        "        self.id_number = id_number\n",
        "        self.address = address\n",
        "        self.enrolled_courses = {}\n",
        "\n",
        "    def __str__(self):\n",
        "        return self.name\n",
        "\n",
        "    def enroll_in_course(self, course):\n",
        "        if course not in self.enrolled_courses:\n",
        "            self.enrolled_courses[course] = None  # Initial grade is None\n",
        "            course.add_student(self)  # Ensure student is added to course only once\n",
        "            print(f\"{self.name} has been enrolled in {course.name}.\")\n",
        "        else:\n",
        "            print(f\"{self.name} is already enrolled in {course.name}.\")\n",
        "\n",
        "    def drop_course(self, course):\n",
        "        if course in self.enrolled_courses:\n",
        "            del self.enrolled_courses[course]\n",
        "            course.remove_student(self)  # Ensure student is removed from course\n",
        "            print(f\"{self.name} has been removed from {course.name}.\")\n",
        "        else:\n",
        "            print(f\"{self.name} is not enrolled in {course.name}.\")\n",
        "\n",
        "    def set_grade(self, course, grade):\n",
        "        if course in self.enrolled_courses:\n",
        "            self.enrolled_courses[course] = grade\n",
        "        else:\n",
        "            print(f\"{self.name} is not enrolled in {course.name}.\")\n",
        "\n",
        "    def show_courses(self):\n",
        "        if self.enrolled_courses:\n",
        "            print(f\"{self.name} is enrolled in the following courses:\")\n",
        "            for course, grade in self.enrolled_courses.items():\n",
        "                print(f\"- {course.name}: {grade if grade is not None else 'No grade'}\")\n",
        "        else:\n",
        "            print(f\"{self.name} is not enrolled in any courses.\")\n",
        "\n",
        "class Registration:\n",
        "    def __init__(self):\n",
        "        self.students = []\n",
        "        self.courses = []\n",
        "        \n",
        "\n",
        "    def add_student(self, student):\n",
        "        if student not in self.students:\n",
        "            self.students.append(student)\n",
        "        else:\n",
        "            print(f\"{student.name} is already registered.\")\n",
        "\n",
        "    def add_course(self, course):\n",
        "        if course not in self.courses:\n",
        "            self.courses.append(course)\n",
        "        else:\n",
        "            print(f\"Course {course.name} is already offered.\")\n",
        "\n",
        "    def enroll_student_in_course(self, student, course):\n",
        "        if student in self.students and course in self.courses:\n",
        "            if course not in student.enrolled_courses:\n",
        "                student.enroll_in_course(course)\n",
        "            else:\n",
        "                print(f\"{student.name} is already enrolled in the course {course.name}.\")\n",
        "        else:\n",
        "            print(\"Student or course not found in the registration system.\")\n",
        "\n",
        "    def drop_student_from_course(self, student, course):\n",
        "        if student in self.students and course in self.courses:\n",
        "            if course in student.enrolled_courses:\n",
        "                student.drop_course(course)\n",
        "            else:\n",
        "                print(f\"{student.name} is not enrolled in the course {course.name}.\")\n",
        "        else:\n",
        "            print(\"Student or course not found in the registration system.\")\n",
        "\n",
        "    def show_all_enrolled_courses(self, student):\n",
        "        if student in self.students:\n",
        "            student.show_courses()\n",
        "        else:\n",
        "            print(f\"Student {student.name} not found in the registration system.\")\n",
        "\n",
        "    def show_all_students(self, course):\n",
        "        if course in self.courses:\n",
        "            course.show_students()\n",
        "        else:\n",
        "            print(f\"Course {course.name} not found in the registration system.\")\n",
        "\n",
        "    def calculate_gpa(self, student):\n",
        "        if student in self.students:\n",
        "            total_points = 0\n",
        "            total_courses = 0\n",
        "            for course, grade in student.enrolled_courses.items():\n",
        "                if grade is not None:\n",
        "                    total_points += grade\n",
        "                    total_courses += 1\n",
        "            if total_courses > 0:\n",
        "                gpa = total_points / total_courses\n",
        "                print(f\"{student.name}'s GPA is {gpa:.2f}\")\n",
        "            else:\n",
        "                print(f\"{student.name} has no graded courses.\")\n",
        "        else:\n",
        "            print(f\"Student {student.name} not found in the registration system.\")"
      ]
    },
    {
      "cell_type": "code",
      "execution_count": 71,
      "id": "96a56f03",
      "metadata": {},
      "outputs": [],
      "source": [
        "# Students we will be grading \n",
        "Registration_2 = Registration()\n",
        "student_7 = Student(\"Diego\", \"7\", \"Aguirre\")\n",
        "student_8 = Student(\"Fernando\", \"8\", \"Zuñiga\")"
      ]
    },
    {
      "cell_type": "code",
      "execution_count": 72,
      "id": "02f5200a",
      "metadata": {},
      "outputs": [],
      "source": [
        "# Register students\n",
        "Registration_2.add_student(student_7)\n",
        "Registration_2.add_student(student_8)"
      ]
    },
    {
      "cell_type": "code",
      "execution_count": 73,
      "id": "6921affb",
      "metadata": {},
      "outputs": [],
      "source": [
        "# Add course to the registration system\n",
        "Registration_2.add_course(course_1)\n",
        "Registration_2.add_course(course_2)"
      ]
    },
    {
      "cell_type": "code",
      "execution_count": 74,
      "id": "02622e41",
      "metadata": {},
      "outputs": [
        {
          "name": "stdout",
          "output_type": "stream",
          "text": [
            "Diego has been enrolled in Python.\n",
            "Diego has been enrolled in Data Analysis.\n",
            "Fernando has been enrolled in Python.\n",
            "Fernando has been enrolled in Data Analysis.\n",
            "Students enrolled in Python:\n",
            "- Diego - Diego - Fernando \n",
            "Students enrolled in Data Analysis:\n",
            "- Diego - Fernando \n"
          ]
        }
      ],
      "source": [
        "#Enroll\n",
        "Registration_2.enroll_student_in_course(student_7, course_1)\n",
        "Registration_2.enroll_student_in_course(student_7, course_2)\n",
        "Registration_2.enroll_student_in_course(student_8, course_1)\n",
        "Registration_2.enroll_student_in_course(student_8, course_2)\n",
        "Registration_2.show_all_students(course_1)\n",
        "Registration_2.show_all_students(course_2)"
      ]
    },
    {
      "cell_type": "code",
      "execution_count": 75,
      "id": "ad7773e7",
      "metadata": {},
      "outputs": [],
      "source": [
        "# Grades\n",
        "student_7.set_grade(course_1, 10)\n",
        "student_7.set_grade(course_2, 7)\n",
        "student_8.set_grade(course_1, 8)\n",
        "student_8.set_grade(course_2, 5)\n"
      ]
    },
    {
      "cell_type": "code",
      "execution_count": 76,
      "id": "253cf2ff",
      "metadata": {},
      "outputs": [
        {
          "name": "stdout",
          "output_type": "stream",
          "text": [
            "Diego's GPA is 8.50\n",
            "Fernando's GPA is 6.50\n"
          ]
        }
      ],
      "source": [
        "# GPA\n",
        "Registration_2.calculate_gpa(student_7)\n",
        "Registration_2.calculate_gpa(student_8)"
      ]
    },
    {
      "cell_type": "markdown",
      "id": "76c565a9-dc30-464c-980d-d522cd5246f4",
      "metadata": {
        "editable": true,
        "id": "76c565a9-dc30-464c-980d-d522cd5246f4",
        "tags": []
      },
      "source": [
        "## That's all!"
      ]
    }
  ],
  "metadata": {
    "colab": {
      "provenance": []
    },
    "kernelspec": {
      "display_name": "Python 3 (ipykernel)",
      "language": "python",
      "name": "python3"
    },
    "language_info": {
      "codemirror_mode": {
        "name": "ipython",
        "version": 3
      },
      "file_extension": ".py",
      "mimetype": "text/x-python",
      "name": "python",
      "nbconvert_exporter": "python",
      "pygments_lexer": "ipython3",
      "version": "3.10.15"
    }
  },
  "nbformat": 4,
  "nbformat_minor": 5
}
