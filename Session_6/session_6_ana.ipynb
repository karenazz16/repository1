{
 "cells": [
  {
   "cell_type": "markdown",
   "id": "24b98369-c7ba-450b-a8b5-e34319000695",
   "metadata": {
    "slideshow": {
     "slide_type": "slide"
    },
    "tags": []
   },
   "source": [
    "# Python for Data Science\n",
    "## Session 6\n",
    "### Datasets – Pandas I "
   ]
  },
  {
   "cell_type": "markdown",
   "id": "3ace1343-d73d-466d-aa07-56febbb7cbf1",
   "metadata": {
    "slideshow": {
     "slide_type": "skip"
    },
    "tags": []
   },
   "source": [
    "---"
   ]
  },
  {
   "cell_type": "markdown",
   "id": "c5ffee69-5d4d-4f1c-9ed7-083afbc931ec",
   "metadata": {
    "slideshow": {
     "slide_type": "slide"
    },
    "tags": []
   },
   "source": [
    "## Outline\n",
    "\n",
    "1. Pandas\n",
    "\n",
    "2. Loading and exploring datasets \n",
    "\n",
    "3. Data cleaning and preprocessing with Pandas "
   ]
  },
  {
   "cell_type": "markdown",
   "id": "aba315f4-e9bf-4a66-b3d3-593037c3ca70",
   "metadata": {
    "slideshow": {
     "slide_type": "skip"
    },
    "tags": []
   },
   "source": [
    "---"
   ]
  },
  {
   "cell_type": "markdown",
   "id": "ae883a57",
   "metadata": {
    "slideshow": {
     "slide_type": "slide"
    }
   },
   "source": [
    "# Home exercises for Netflix:\n",
    "\n",
    "1. Is there any missing rating?\n"
   ]
  },
  {
   "cell_type": "code",
   "execution_count": 12,
   "id": "6a5aa93c",
   "metadata": {},
   "outputs": [
    {
     "name": "stdout",
     "output_type": "stream",
     "text": [
      "Number of missing ratings: 4\n"
     ]
    }
   ],
   "source": [
    "\n",
    "import pandas as pd\n",
    "df = pd.read_csv(\"/Users/anakarenaguirre/Desktop/netflix_titles.csv.zip\")\n",
    "\n",
    "missing_ratings = df[\"rating\"].isnull().sum()\n",
    "print(f\"Number of missing ratings: {missing_ratings}\")"
   ]
  },
  {
   "cell_type": "markdown",
   "id": "ec7436c0",
   "metadata": {},
   "source": [
    "\n",
    "2. How many films in 2021 correspond to your country?\n"
   ]
  },
  {
   "cell_type": "code",
   "execution_count": 13,
   "id": "ec5cf1fe",
   "metadata": {},
   "outputs": [
    {
     "name": "stdout",
     "output_type": "stream",
     "text": [
      "Number of movies from Spain released in 2021: 6\n"
     ]
    }
   ],
   "source": [
    "\n",
    "movies_2021_spain = df[(df[\"type\"] == \"Movie\") & (df[\"release_year\"] == 2021) & (df[\"country\"].str.contains(\"Spain\", na=False))]\n",
    "\n",
    "num_movies_2021_spain = movies_2021_spain.shape[0]\n",
    "print(f\"Number of movies from Spain released in 2021: {num_movies_2021_spain}\")"
   ]
  },
  {
   "cell_type": "markdown",
   "id": "87e745a1",
   "metadata": {},
   "source": [
    "\n",
    "3. What's the number of movies in 2020 with full information?\n"
   ]
  },
  {
   "cell_type": "code",
   "execution_count": 14,
   "id": "78fe6784",
   "metadata": {},
   "outputs": [
    {
     "name": "stdout",
     "output_type": "stream",
     "text": [
      "Number of movies in 2020 with full information: 409\n"
     ]
    }
   ],
   "source": [
    "\n",
    "movies_2020 = df[(df[\"type\"] == \"Movie\") & (df[\"release_year\"] == 2020)]\n",
    "\n",
    "movies_2020_full_info = movies_2020.dropna()\n",
    "\n",
    "num_movies_2020_full_info = movies_2020_full_info.shape[0]\n",
    "print(f\"Number of movies in 2020 with full information: {num_movies_2020_full_info}\")"
   ]
  },
  {
   "cell_type": "markdown",
   "id": "15067823",
   "metadata": {},
   "source": [
    "\n",
    "4. Give me the year with more titles,\n"
   ]
  },
  {
   "cell_type": "code",
   "execution_count": 15,
   "id": "f660535a",
   "metadata": {},
   "outputs": [
    {
     "name": "stdout",
     "output_type": "stream",
     "text": [
      "The year with the most titles is 2018 with 1147 titles.\n"
     ]
    }
   ],
   "source": [
    "\n",
    "titles_per_year = df.groupby(\"release_year\").size()\n",
    "\n",
    "max_titles_year = titles_per_year.idxmax()\n",
    "max_titles_count = titles_per_year.max()\n",
    "print(f\"The year with the most titles is {max_titles_year} with {max_titles_count} titles.\")"
   ]
  },
  {
   "cell_type": "markdown",
   "id": "83b29981",
   "metadata": {},
   "source": [
    "\n",
    "5. and what has been the average in terms of releases from 2010. \n",
    "\n"
   ]
  },
  {
   "cell_type": "code",
   "execution_count": 16,
   "id": "f91d91db",
   "metadata": {},
   "outputs": [
    {
     "name": "stdout",
     "output_type": "stream",
     "text": [
      "The average number of releases per year since 2010 is approximately 622.67.\n"
     ]
    }
   ],
   "source": [
    "\n",
    "df_2010_onwards = df[df[\"release_year\"] >= 2010]\n",
    "\n",
    "titles_per_year_2010_onwards = df_2010_onwards.groupby(\"release_year\").size()\n",
    "\n",
    "average_releases_per_year = titles_per_year_2010_onwards.mean()\n",
    "print(f\"The average number of releases per year since 2010 is approximately {average_releases_per_year:.2f}.\")"
   ]
  },
  {
   "cell_type": "markdown",
   "id": "e74499c0",
   "metadata": {},
   "source": [
    "# And for Titanic:\n",
    "\n",
    "1. Calculate Gender-Based Survival Percentage\n",
    "\n"
   ]
  },
  {
   "cell_type": "code",
   "execution_count": 17,
   "id": "d8f15e08",
   "metadata": {},
   "outputs": [
    {
     "name": "stdout",
     "output_type": "stream",
     "text": [
      "Gender-Based Survival Percentage:\n",
      "Sex\n",
      "0    12.930012\n",
      "1    50.000000\n",
      "Name: count, dtype: float64\n"
     ]
    }
   ],
   "source": [
    "\n",
    "df = pd.read_csv(\"/Users/anakarenaguirre/Desktop/train_and_test2.csv\")\n",
    "\n",
    "gender_counts = df['Sex'].value_counts()\n",
    "\n",
    "gender_survival_counts = df[df[\"2urvived\"] == 1][\"Sex\"].value_counts()\n",
    "\n",
    "gender_survival_percentage = (gender_survival_counts / gender_counts) * 100\n",
    "print(\"Gender-Based Survival Percentage:\")\n",
    "print(gender_survival_percentage)"
   ]
  },
  {
   "cell_type": "markdown",
   "id": "7bd68bf3",
   "metadata": {},
   "source": [
    "\n",
    "\n",
    "2. Calculate Survival Percentage Grouped by Gender and Class"
   ]
  },
  {
   "cell_type": "code",
   "execution_count": 18,
   "id": "b6715d6a",
   "metadata": {},
   "outputs": [
    {
     "name": "stdout",
     "output_type": "stream",
     "text": [
      "Survival Percentage Grouped by Gender and Class:\n",
      "Sex  Pclass\n",
      "0    1         25.139665\n",
      "     2          9.941520\n",
      "     3          9.533469\n",
      "1    1         63.194444\n",
      "     2         66.037736\n",
      "     3         33.333333\n",
      "Name: 2urvived, dtype: float64\n"
     ]
    }
   ],
   "source": [
    "\n",
    "survival_by_gender_class = df.groupby([\"Sex\", \"Pclass\"])[\"2urvived\"].mean() * 100\n",
    "\n",
    "print(\"Survival Percentage Grouped by Gender and Class:\")\n",
    "print(survival_by_gender_class)\n"
   ]
  }
 ],
 "metadata": {
  "celltoolbar": "Slideshow",
  "kernelspec": {
   "display_name": "Python 3 (ipykernel)",
   "language": "python",
   "name": "python3"
  },
  "language_info": {
   "codemirror_mode": {
    "name": "ipython",
    "version": 3
   },
   "file_extension": ".py",
   "mimetype": "text/x-python",
   "name": "python",
   "nbconvert_exporter": "python",
   "pygments_lexer": "ipython3",
   "version": "3.12.4"
  }
 },
 "nbformat": 4,
 "nbformat_minor": 5
}
