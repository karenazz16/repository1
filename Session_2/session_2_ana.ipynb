{
 "cells": [
  {
   "cell_type": "markdown",
   "id": "2ee680d0",
   "metadata": {},
   "source": [
    "<b>Exercise 1: FizzBuzz</b>\n",
    "\n",
    "Write a FizzBuzz Function: Create a function fizzbuzz(n) that takes an integer n as a parameter.\n",
    "\n",
    "Implement FizzBuzz Logic: The function should print:\n",
    "\n",
    "○ \"Fizz\" for multiples of 3\n",
    "\n",
    "○ \"Buzz\" for multiples of 5\n",
    "\n",
    "○ \"FizzBuzz\" for multiples of both 3 and 5\n",
    "\n",
    "○ The number itself for other numbers\n",
    "\n",
    "Call the Function: Call the function for numbers 1 to 20."
   ]
  },
  {
   "cell_type": "code",
   "execution_count": 5,
   "id": "35114e51",
   "metadata": {},
   "outputs": [
    {
     "name": "stdout",
     "output_type": "stream",
     "text": [
      "Testing function:\n",
      "\t The number 2 returns: 2\n",
      "\t The number 3 returns: Fizz\n",
      "\t The number 5 returns: Buzz\n",
      "\t The number 15 returns: FizzBuzz\n",
      "\t The number 20 returns: Buzz\n",
      "\t The number 23 returns: 23\n",
      "Call the function from number 1 to 20:\n",
      "\t Number 1 returns: 1\n",
      "\t Number 2 returns: 2\n",
      "\t Number 3 returns: Fizz\n",
      "\t Number 4 returns: 4\n",
      "\t Number 5 returns: Buzz\n",
      "\t Number 6 returns: Fizz\n",
      "\t Number 7 returns: 7\n",
      "\t Number 8 returns: 8\n",
      "\t Number 9 returns: Fizz\n",
      "\t Number 10 returns: Buzz\n",
      "\t Number 11 returns: 11\n",
      "\t Number 12 returns: Fizz\n",
      "\t Number 13 returns: 13\n",
      "\t Number 14 returns: 14\n",
      "\t Number 15 returns: FizzBuzz\n",
      "\t Number 16 returns: 16\n",
      "\t Number 17 returns: 17\n",
      "\t Number 18 returns: Fizz\n",
      "\t Number 19 returns: 19\n",
      "\t Number 20 returns: Buzz\n"
     ]
    }
   ],
   "source": [
    "def fizz_buzz(num):\n",
    "\n",
    "    if num % 5 == 0 and num % 3 == 0: \n",
    "        return 'FizzBuzz'\n",
    "    elif num % 5 == 0:\n",
    "        return 'Buzz'\n",
    "    elif num % 3 == 0:\n",
    "        return 'Fizz'\n",
    "    else:\n",
    "        return num\n",
    "    \n",
    "print('Testing function:')\n",
    "\n",
    "for number in [2, 3, 5, 15, 20, 23]:\n",
    "    print(f\"\\t The number {number} returns: {fizz_buzz(number)}\")\n",
    "\n",
    "print('Call the function from number 1 to 20:')\n",
    "\n",
    "for number in range(1, 20+1):\n",
    "    print(f\"\\t Number {number} returns: {fizz_buzz(number)}\")"
   ]
  },
  {
   "cell_type": "markdown",
   "id": "4322aa30",
   "metadata": {},
   "source": [
    "---------------"
   ]
  },
  {
   "cell_type": "markdown",
   "id": "36790685",
   "metadata": {},
   "source": [
    "Exercise 2: Basic Data Filtering\n",
    "\n",
    "1. Create a List of Mixed Data Types: Create a list that contains a mix of integers, strings, and floats.\n",
    "\n",
    "2. Filter the List: Use list comprehension to create a new list that contains only the integers from the original list.\n",
    "\n",
    "3. Print the New List: Output the filtered list of integers."
   ]
  },
  {
   "cell_type": "code",
   "execution_count": 6,
   "id": "eaf91098",
   "metadata": {},
   "outputs": [
    {
     "name": "stdout",
     "output_type": "stream",
     "text": [
      "This is the filtered list: [23, 2001]\n"
     ]
    }
   ],
   "source": [
    "# 1. Creating a list containing a mix of integers, strings and floats\n",
    "mixed_list = [\"ana\",23, 'MIBA', 2001, 'cdmx', 3.14159]\n",
    "\n",
    "# 2. Filter everything but integers\n",
    "mixed_list = [\"ana\",23, 'MIBA', 2001, 'cdmx', 3.14159]\n",
    "filtered_list = [element for element in mixed_list if isinstance(element, int)]\n",
    "\n",
    "# 3. Print the new list\n",
    "print(f\"This is the filtered list: {filtered_list}\")"
   ]
  },
  {
   "cell_type": "markdown",
   "id": "4da265d7",
   "metadata": {},
   "source": [
    "---"
   ]
  },
  {
   "cell_type": "markdown",
   "id": "86ea5ec4",
   "metadata": {},
   "source": [
    "Exercise 3: Simple To-Do List\n",
    "\n",
    "Create an Empty List: Start with an empty list called todo_list.\n",
    "\n",
    "Define Functions:\n",
    "\n",
    "○ A function add_task(task) that adds a task to the list.\n",
    "\n",
    "○ A function show_tasks() that prints all tasks in the list."
   ]
  },
  {
   "cell_type": "code",
   "execution_count": 7,
   "id": "4d0e4e66",
   "metadata": {},
   "outputs": [
    {
     "name": "stdout",
     "output_type": "stream",
     "text": [
      "Testing function\n",
      "Task Dishes added succesfully\n",
      "Task Python added succesfully\n",
      "Task Laundry added succesfully\n",
      "The todo_list has the following tasks:\n",
      "\t Task number 0: Dishes\n",
      "\t Task number 1: Python\n",
      "\t Task number 2: Laundry\n"
     ]
    }
   ],
   "source": [
    "# Creating an empty list\n",
    "todo_list = list()\n",
    "\n",
    "# Define function \n",
    "def add_task(task):\n",
    "  \n",
    "    todo_list.append(task)\n",
    "    print(f'Task {task} added succesfully')\n",
    "    \n",
    "# Creating a function that adds a task to the todo_list\n",
    "def show_tasks():\n",
    "  \n",
    "    if todo_list: \n",
    "        print(\"The todo_list has the following tasks:\")\n",
    "        for idx, task in enumerate(todo_list):\n",
    "            print(f\"\\t Task number {idx}: {task}\")\n",
    "            \n",
    "print(\"Testing function\")\n",
    "\n",
    "# adding tasks\n",
    "add_task(\"Dishes\")\n",
    "add_task(\"Python\")\n",
    "add_task(\"Laundry\")\n",
    "\n",
    "# printing tasks\n",
    "show_tasks()"
   ]
  },
  {
   "cell_type": "markdown",
   "id": "28d30f29",
   "metadata": {},
   "source": [
    "---"
   ]
  },
  {
   "cell_type": "markdown",
   "id": "8089c326",
   "metadata": {},
   "source": [
    "Exercise 4: Temperature Converter\n",
    "\n",
    "1. Define a Conversion Function: Write a function celsius_to_fahrenheit(celsius) that converts Celsius to Fahrenheit.\n",
    "\n",
    "2. Print the Result: Output the converted temperature for 22ºC, 46ºC, 51ºC and 76ºC."
   ]
  },
  {
   "cell_type": "code",
   "execution_count": 8,
   "id": "5119d07a",
   "metadata": {},
   "outputs": [
    {
     "name": "stdout",
     "output_type": "stream",
     "text": [
      "Converting 22ºC, 46ºC, 51ºC and 76ºC to Fahrenheit degrees.\n",
      "\t 22ºC correspond to 71.6ºF\n",
      "\t 46ºC correspond to 114.8ºF\n",
      "\t 51ºC correspond to 123.8ºF\n",
      "\t 76ºC correspond to 168.8ºF\n"
     ]
    }
   ],
   "source": [
    "# 1. celsius to fahrenheit \n",
    "def celsius_to_fahrenheit(celsius):\n",
    "    fahrenheit = (celsius * 9/5) + 32\n",
    "    return fahrenheit\n",
    "\n",
    "# 2. Converting  temperatures 22ºC, 46ºC, 51ºC and 76ºC\n",
    "print(\"Converting 22ºC, 46ºC, 51ºC and 76ºC to Fahrenheit degrees.\")\n",
    "for degrees in [22, 46, 51, 76]:\n",
    "    print(f\"\\t {degrees}ºC correspond to {celsius_to_fahrenheit(degrees)}ºF\")"
   ]
  }
 ],
 "metadata": {
  "kernelspec": {
   "display_name": "Python 3 (ipykernel)",
   "language": "python",
   "name": "python3"
  },
  "language_info": {
   "codemirror_mode": {
    "name": "ipython",
    "version": 3
   },
   "file_extension": ".py",
   "mimetype": "text/x-python",
   "name": "python",
   "nbconvert_exporter": "python",
   "pygments_lexer": "ipython3",
   "version": "3.10.15"
  }
 },
 "nbformat": 4,
 "nbformat_minor": 5
}
