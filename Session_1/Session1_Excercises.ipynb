{
 "cells": [
  {
   "cell_type": "code",
   "execution_count": 1,
   "id": "6f69bf45-66af-40d5-829a-6231649d0c07",
   "metadata": {},
   "outputs": [
    {
     "name": "stdout",
     "output_type": "stream",
     "text": [
      "Hello, Python!\n"
     ]
    }
   ],
   "source": [
    "#Excercise 1\n",
    "print(\"Hello, Python!\")\n"
   ]
  },
  {
   "cell_type": "code",
   "execution_count": 3,
   "id": "aaafbcbe-e999-4a29-836b-d22920e229b3",
   "metadata": {},
   "outputs": [
    {
     "name": "stdout",
     "output_type": "stream",
     "text": [
      "Sum: 25\n",
      "Difference: 19\n",
      "Product: 66\n",
      "Quotient: 7.333333333333333\n"
     ]
    }
   ],
   "source": [
    "#Excercise 2\n",
    "a = 22\n",
    "b = 3\n",
    "\n",
    "print(\"Sum:\", a + b)\n",
    "print(\"Difference:\", a - b)\n",
    "print(\"Product:\", a * b)\n",
    "print(\"Quotient:\", a / b)"
   ]
  },
  {
   "cell_type": "code",
   "execution_count": 4,
   "id": "61c3f2cc-3285-43eb-9d66-20855c2dd429",
   "metadata": {},
   "outputs": [
    {
     "name": "stdout",
     "output_type": "stream",
     "text": [
      "Hello, Ana!\n"
     ]
    }
   ],
   "source": [
    "#Excercise 3\n",
    "name = \"Ana\" \n",
    "print(f\"Hello, {name}!\")"
   ]
  },
  {
   "cell_type": "code",
   "execution_count": 5,
   "id": "197386c6-f11d-42af-9ba0-f2947623e699",
   "metadata": {},
   "outputs": [
    {
     "name": "stdout",
     "output_type": "stream",
     "text": [
      "List of Cities: ['Barcelona', 'Monterrey', 'MexicoCity', 'London', 'Madrid']\n",
      "First City: Barcelona\n",
      "Last City: Madrid\n"
     ]
    }
   ],
   "source": [
    "#Excercise 4\n",
    "Cities = [\"Barcelona\", \"Monterrey\", \"MexicoCity\", \"London\", \"Madrid\"]\n",
    "\n",
    "print(\"List of Cities:\", Cities)\n",
    "\n",
    "print(\"First City:\", Cities[0])\n",
    "\n",
    "print(\"Last City:\", Cities[-1])\n"
   ]
  },
  {
   "cell_type": "code",
   "execution_count": 6,
   "id": "1de11d99-0b9f-4705-9834-2c30e61d35f8",
   "metadata": {},
   "outputs": [
    {
     "name": "stdout",
     "output_type": "stream",
     "text": [
      "name: Ana\n",
      "age: 23\n",
      "master: MiBA\n"
     ]
    }
   ],
   "source": [
    "# Exercise 5\n",
    "student = {\n",
    "    \"name\": \"Ana\",\n",
    "    \"age\": 23,\n",
    "    \"master\": \"MiBA\"\n",
    "}\n",
    "\n",
    "for key, value in student.items():\n",
    "    print(f\"{key}: {value}\")\n"
   ]
  },
  {
   "cell_type": "code",
   "execution_count": 7,
   "id": "01f7dbfb-f501-4ffd-91d0-2514c423769e",
   "metadata": {},
   "outputs": [
    {
     "name": "stdout",
     "output_type": "stream",
     "text": [
      "Coordinates: (5, 10)\n",
      "X-coordinate: 5\n",
      "Y-coordinate: 10\n"
     ]
    }
   ],
   "source": [
    "# Exercise 6\n",
    "coordinates = (5, 10)\n",
    "\n",
    "print(\"Coordinates:\", coordinates)\n",
    "\n",
    "print(\"X-coordinate:\", coordinates[0])\n",
    "print(\"Y-coordinate:\", coordinates[1])\n"
   ]
  },
  {
   "cell_type": "code",
   "execution_count": null,
   "id": "84130840-5b6d-45fe-aa15-7aee6525943c",
   "metadata": {},
   "outputs": [],
   "source": [
    "# Exercise 7\n",
    "colors = {\"red\", \"green\", \"blue\"}\n",
    "\n",
    "colors.add(\"purple\")\n",
    "colors.add(\"red\")\n",
    "print(\"Colors:\", colors)\n",
    "\n",
    "\n",
    "colors.remove(\"green\")\n",
    "print(\"Colors after removal:\", colors)\n",
    "\n",
    "# Create another set and merge with colors\n",
    "light_colors = {\"pink\", \"cyan\", \"white\"}\n",
    "all_colors = colors.union(light_colors)\n",
    "\n",
    "# Print the merged set\n",
    "print(\"Merged Colors:\", all_colors)\n"
   ]
  },
  {
   "cell_type": "code",
   "execution_count": 8,
   "id": "c952471b-3a27-48c3-a578-1e0dcabe33a3",
   "metadata": {},
   "outputs": [
    {
     "name": "stdin",
     "output_type": "stream",
     "text": [
      "Enter a number:  5\n"
     ]
    },
    {
     "name": "stdout",
     "output_type": "stream",
     "text": [
      "The number is positive.\n"
     ]
    }
   ],
   "source": [
    "# Exercise 8\n",
    "number = float(input(\"Enter a number: \"))\n",
    "\n",
    "if number > 0:\n",
    "    print(\"The number is positive.\")\n",
    "elif number < 0:\n",
    "    print(\"The number is negative.\")\n",
    "else:\n",
    "    print(\"The number is zero.\")\n"
   ]
  },
  {
   "cell_type": "code",
   "execution_count": 9,
   "id": "58f86c27-fb97-466f-8ee4-791af3c9f73e",
   "metadata": {},
   "outputs": [
    {
     "name": "stdout",
     "output_type": "stream",
     "text": [
      "1\n",
      "2\n",
      "3\n",
      "4\n",
      "5\n"
     ]
    }
   ],
   "source": [
    "# Exercise 9\n",
    "numbers = [1, 2, 3, 4, 5]\n",
    "\n",
    "for num in numbers:\n",
    "    print(num)\n"
   ]
  },
  {
   "cell_type": "code",
   "execution_count": 10,
   "id": "8b46b13b-61e5-45a3-97c4-85e9b95b56a0",
   "metadata": {},
   "outputs": [
    {
     "name": "stdout",
     "output_type": "stream",
     "text": [
      "1\n",
      "2\n",
      "3\n",
      "4\n",
      "5\n"
     ]
    }
   ],
   "source": [
    "# Exercise 10\n",
    "i = 1\n",
    "while i <= 5:\n",
    "    print(i)\n",
    "    i += 1\n"
   ]
  },
  {
   "cell_type": "code",
   "execution_count": 11,
   "id": "abddeb09-42d9-487f-b02a-522f2b165335",
   "metadata": {},
   "outputs": [
    {
     "name": "stdin",
     "output_type": "stream",
     "text": [
      "Enter a grade (A, B, C, D, F):  B\n"
     ]
    },
    {
     "name": "stdout",
     "output_type": "stream",
     "text": [
      "Good job!\n"
     ]
    }
   ],
   "source": [
    "# Exercise 11\n",
    "grade = input(\"Enter a grade (A, B, C, D, F): \").upper()\n",
    "\n",
    "match grade:\n",
    "    case \"A\":\n",
    "        print(\"Excellent!\")\n",
    "    case \"B\":\n",
    "        print(\"Good job!\")\n",
    "    case \"C\":\n",
    "        print(\"Fair.\")\n",
    "    case \"D\":\n",
    "        print(\"Needs improvement.\")\n",
    "    case \"F\":\n",
    "        print(\"Failing.\")\n",
    "    case _:\n",
    "        print(\"Invalid grade entered.\")\n"
   ]
  },
  {
   "cell_type": "code",
   "execution_count": 12,
   "id": "27b6fffc-50cf-4627-b55c-68e240cddfdd",
   "metadata": {},
   "outputs": [
    {
     "name": "stdout",
     "output_type": "stream",
     "text": [
      "Hello, Ana!\n"
     ]
    }
   ],
   "source": [
    "# Exercise 12\n",
    "def greet(name):\n",
    "    print(f\"Hello, {name}!\")\n",
    "\n",
    "greet(\"Ana\")  \n"
   ]
  },
  {
   "cell_type": "code",
   "execution_count": 13,
   "id": "47b4d98f-f32a-4778-b465-13a8576f23b3",
   "metadata": {},
   "outputs": [
    {
     "name": "stdout",
     "output_type": "stream",
     "text": [
      "16\n",
      "49\n",
      "100\n"
     ]
    }
   ],
   "source": [
    "# Exercise 13\n",
    "def square(number):\n",
    "    return number ** 2\n",
    "\n",
    "print(square(4))  \n",
    "print(square(7))  \n",
    "print(square(10)) \n"
   ]
  },
  {
   "cell_type": "code",
   "execution_count": 14,
   "id": "e2aedff7-e61e-4603-84cc-7f3cd428b5e9",
   "metadata": {},
   "outputs": [
    {
     "name": "stdout",
     "output_type": "stream",
     "text": [
      "15\n",
      "7\n"
     ]
    }
   ],
   "source": [
    "# Exercise 14\n",
    "def multiply(a, b=1):\n",
    "    return a * b\n",
    "\n",
    "print(multiply(5, 3)) \n",
    "print(multiply(7))     \n"
   ]
  },
  {
   "cell_type": "code",
   "execution_count": 15,
   "id": "2368f2f0-028a-4056-aace-758331cb6d7c",
   "metadata": {},
   "outputs": [
    {
     "name": "stdout",
     "output_type": "stream",
     "text": [
      "[1, 4, 9, 16, 25, 36, 49, 64, 81, 100]\n"
     ]
    }
   ],
   "source": [
    "# Exercise 15\n",
    "numbers = list(range(1, 11))\n",
    "squares = [x**2 for x in numbers]\n",
    "\n",
    "print(squares)\n"
   ]
  },
  {
   "cell_type": "code",
   "execution_count": 16,
   "id": "adb0e14c-911d-4274-b207-22e601a1b469",
   "metadata": {},
   "outputs": [
    {
     "name": "stdout",
     "output_type": "stream",
     "text": [
      "Alice's average grade: 84.33\n",
      "Bob's average grade: 75.67\n",
      "Charlie's average grade: 88.33\n"
     ]
    }
   ],
   "source": [
    "# Exercise 16\n",
    "grades = {\n",
    "    \"Alice\": [85, 90, 78],\n",
    "    \"Bob\": [75, 80, 72],\n",
    "    \"Charlie\": [88, 92, 85]\n",
    "}\n",
    "\n",
    "def print_average_grades(student_grades):\n",
    "    for student, grades_list in student_grades.items():\n",
    "        avg_grade = sum(grades_list) / len(grades_list)\n",
    "        print(f\"{student}'s average grade: {avg_grade:.2f}\")\n",
    "\n",
    "print_average_grades(grades)\n"
   ]
  },
  {
   "cell_type": "code",
   "execution_count": 17,
   "id": "6fcae9fb-0925-4f1c-9316-ad148645b330",
   "metadata": {},
   "outputs": [
    {
     "name": "stdin",
     "output_type": "stream",
     "text": [
      "Enter the first number:  2\n",
      "Enter the second number:  7\n",
      "Enter the operator (+, -, *, /):  *\n"
     ]
    },
    {
     "name": "stdout",
     "output_type": "stream",
     "text": [
      "The result is: 14.0\n"
     ]
    }
   ],
   "source": [
    "# Exercise 17\n",
    "def calculate(a, b, operator):\n",
    "    if operator == '+':\n",
    "        return a + b\n",
    "    elif operator == '-':\n",
    "        return a - b\n",
    "    elif operator == '*':\n",
    "        return a * b\n",
    "    elif operator == '/':\n",
    "        return a / b\n",
    "    else:\n",
    "        return \"Invalid operator\"\n",
    "\n",
    "# Get user input\n",
    "num1 = float(input(\"Enter the first number: \"))\n",
    "num2 = float(input(\"Enter the second number: \"))\n",
    "op = input(\"Enter the operator (+, -, *, /): \")\n",
    "\n",
    "# Call the function and print the result\n",
    "result = calculate(num1, num2, op)\n",
    "print(f\"The result is: {result}\")\n"
   ]
  },
  {
   "cell_type": "code",
   "execution_count": null,
   "id": "65f0f44f-0173-46f5-a128-9976369f0b59",
   "metadata": {},
   "outputs": [],
   "source": []
  }
 ],
 "metadata": {
  "kernelspec": {
   "display_name": "Python 3 (ipykernel)",
   "language": "python",
   "name": "python3"
  },
  "language_info": {
   "codemirror_mode": {
    "name": "ipython",
    "version": 3
   },
   "file_extension": ".py",
   "mimetype": "text/x-python",
   "name": "python",
   "nbconvert_exporter": "python",
   "pygments_lexer": "ipython3",
   "version": "3.11.9"
  }
 },
 "nbformat": 4,
 "nbformat_minor": 5
}
